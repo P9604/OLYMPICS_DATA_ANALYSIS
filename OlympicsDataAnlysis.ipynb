{
  "nbformat": 4,
  "nbformat_minor": 0,
  "metadata": {
    "colab": {
      "name": "OlympicsDataAnlysis.ipynb",
      "provenance": [],
      "collapsed_sections": []
    },
    "kernelspec": {
      "name": "python3",
      "display_name": "Python 3"
    },
    "language_info": {
      "name": "python"
    }
  },
  "cells": [
    {
      "cell_type": "code",
      "metadata": {
        "id": "pc2pUDK5Tisy"
      },
      "source": [
        "import numpy as np\n",
        "import pandas as pd\n",
        "from matplotlib import pyplot as plt\n",
        "%matplotlib inline"
      ],
      "execution_count": 13,
      "outputs": []
    },
    {
      "cell_type": "code",
      "metadata": {
        "id": "jGbrRrjoTvcj"
      },
      "source": [
        "df = pd.read_csv(\"summer.csv\")"
      ],
      "execution_count": 14,
      "outputs": []
    },
    {
      "cell_type": "code",
      "metadata": {
        "colab": {
          "base_uri": "https://localhost:8080/",
          "height": 204
        },
        "id": "Wz0iwkfWWz1l",
        "outputId": "7b0be0cc-8027-448b-9e81-43e41dedcbf8"
      },
      "source": [
        "df.head()"
      ],
      "execution_count": 23,
      "outputs": [
        {
          "output_type": "execute_result",
          "data": {
            "text/html": [
              "<div>\n",
              "<style scoped>\n",
              "    .dataframe tbody tr th:only-of-type {\n",
              "        vertical-align: middle;\n",
              "    }\n",
              "\n",
              "    .dataframe tbody tr th {\n",
              "        vertical-align: top;\n",
              "    }\n",
              "\n",
              "    .dataframe thead th {\n",
              "        text-align: right;\n",
              "    }\n",
              "</style>\n",
              "<table border=\"1\" class=\"dataframe\">\n",
              "  <thead>\n",
              "    <tr style=\"text-align: right;\">\n",
              "      <th></th>\n",
              "      <th>Year</th>\n",
              "      <th>City</th>\n",
              "      <th>Sport</th>\n",
              "      <th>Discipline</th>\n",
              "      <th>Athlete</th>\n",
              "      <th>Country</th>\n",
              "      <th>Gender</th>\n",
              "      <th>Event</th>\n",
              "      <th>Medal</th>\n",
              "    </tr>\n",
              "  </thead>\n",
              "  <tbody>\n",
              "    <tr>\n",
              "      <th>0</th>\n",
              "      <td>1896</td>\n",
              "      <td>Athens</td>\n",
              "      <td>Aquatics</td>\n",
              "      <td>Swimming</td>\n",
              "      <td>HAJOS, Alfred</td>\n",
              "      <td>HUN</td>\n",
              "      <td>Men</td>\n",
              "      <td>100M Freestyle</td>\n",
              "      <td>Gold</td>\n",
              "    </tr>\n",
              "    <tr>\n",
              "      <th>1</th>\n",
              "      <td>1896</td>\n",
              "      <td>Athens</td>\n",
              "      <td>Aquatics</td>\n",
              "      <td>Swimming</td>\n",
              "      <td>HERSCHMANN, Otto</td>\n",
              "      <td>AUT</td>\n",
              "      <td>Men</td>\n",
              "      <td>100M Freestyle</td>\n",
              "      <td>Silver</td>\n",
              "    </tr>\n",
              "    <tr>\n",
              "      <th>2</th>\n",
              "      <td>1896</td>\n",
              "      <td>Athens</td>\n",
              "      <td>Aquatics</td>\n",
              "      <td>Swimming</td>\n",
              "      <td>DRIVAS, Dimitrios</td>\n",
              "      <td>GRE</td>\n",
              "      <td>Men</td>\n",
              "      <td>100M Freestyle For Sailors</td>\n",
              "      <td>Bronze</td>\n",
              "    </tr>\n",
              "    <tr>\n",
              "      <th>3</th>\n",
              "      <td>1896</td>\n",
              "      <td>Athens</td>\n",
              "      <td>Aquatics</td>\n",
              "      <td>Swimming</td>\n",
              "      <td>MALOKINIS, Ioannis</td>\n",
              "      <td>GRE</td>\n",
              "      <td>Men</td>\n",
              "      <td>100M Freestyle For Sailors</td>\n",
              "      <td>Gold</td>\n",
              "    </tr>\n",
              "    <tr>\n",
              "      <th>4</th>\n",
              "      <td>1896</td>\n",
              "      <td>Athens</td>\n",
              "      <td>Aquatics</td>\n",
              "      <td>Swimming</td>\n",
              "      <td>CHASAPIS, Spiridon</td>\n",
              "      <td>GRE</td>\n",
              "      <td>Men</td>\n",
              "      <td>100M Freestyle For Sailors</td>\n",
              "      <td>Silver</td>\n",
              "    </tr>\n",
              "  </tbody>\n",
              "</table>\n",
              "</div>"
            ],
            "text/plain": [
              "   Year    City     Sport  ... Gender                       Event   Medal\n",
              "0  1896  Athens  Aquatics  ...    Men              100M Freestyle    Gold\n",
              "1  1896  Athens  Aquatics  ...    Men              100M Freestyle  Silver\n",
              "2  1896  Athens  Aquatics  ...    Men  100M Freestyle For Sailors  Bronze\n",
              "3  1896  Athens  Aquatics  ...    Men  100M Freestyle For Sailors    Gold\n",
              "4  1896  Athens  Aquatics  ...    Men  100M Freestyle For Sailors  Silver\n",
              "\n",
              "[5 rows x 9 columns]"
            ]
          },
          "metadata": {},
          "execution_count": 23
        }
      ]
    },
    {
      "cell_type": "code",
      "metadata": {
        "colab": {
          "base_uri": "https://localhost:8080/"
        },
        "id": "k1OGwdlIW4Ti",
        "outputId": "23fe4f64-6c3e-45a0-9509-b1621e51a78b"
      },
      "source": [
        "len(df)"
      ],
      "execution_count": 24,
      "outputs": [
        {
          "output_type": "execute_result",
          "data": {
            "text/plain": [
              "31165"
            ]
          },
          "metadata": {},
          "execution_count": 24
        }
      ]
    },
    {
      "cell_type": "code",
      "metadata": {
        "colab": {
          "base_uri": "https://localhost:8080/"
        },
        "id": "KDO7KnXWTzF-",
        "outputId": "65507c87-1684-4975-91f6-e35418d59a57"
      },
      "source": [
        "#1. In how many cities Summer Olympics is held so far?\n",
        "\n",
        "sum_city=df['City'].unique()\n",
        "\n",
        "print(\"Different cities list in which Summer Olympics is held so far:\")\n",
        "\n",
        "print(sum_city)\n",
        "\n",
        "data = []\n",
        "\n",
        "for city in df['City'].unique():\n",
        "    data.append(city)\n",
        "    \n",
        "len(data)"
      ],
      "execution_count": 25,
      "outputs": [
        {
          "output_type": "stream",
          "name": "stdout",
          "text": [
            "Different cities list in which Summer Olympics is held so far:\n",
            "['Athens' 'Paris' 'St Louis' 'London' 'Stockholm' 'Antwerp' 'Amsterdam'\n",
            " 'Los Angeles' 'Berlin' 'Helsinki' 'Melbourne / Stockholm' 'Rome' 'Tokyo'\n",
            " 'Mexico' 'Munich' 'Montreal' 'Moscow' 'Seoul' 'Barcelona' 'Atlanta'\n",
            " 'Sydney' 'Beijing']\n"
          ]
        },
        {
          "output_type": "execute_result",
          "data": {
            "text/plain": [
              "22"
            ]
          },
          "metadata": {},
          "execution_count": 25
        }
      ]
    },
    {
      "cell_type": "code",
      "metadata": {
        "colab": {
          "base_uri": "https://localhost:8080/",
          "height": 454
        },
        "id": "p6X0xONZT3oJ",
        "outputId": "24e0b13d-f71b-4ba7-dd1a-601e5a7f32ac"
      },
      "source": [
        "#2. Which sport is having most number of Gold Medals so far? (Top 5)\n",
        "\n",
        "\n",
        "data = []\n",
        "\n",
        "for Sport in df['Sport'].unique():\n",
        "    data.append([Sport, len(df.loc[(df['Medal']=='Gold') & (df['Sport']==Sport)])])\n",
        "    \n",
        "pd.DataFrame(data,columns=['Sport','nOfGoldMedal']).sort_values(by='nOfGoldMedal', ascending=False).head().plot.bar(x='Sport',y='nOfGoldMedal',figsize=(6,6),color='y')"
      ],
      "execution_count": 16,
      "outputs": [
        {
          "output_type": "execute_result",
          "data": {
            "text/plain": [
              "<matplotlib.axes._subplots.AxesSubplot at 0x7f86b2e12290>"
            ]
          },
          "metadata": {},
          "execution_count": 16
        },
        {
          "output_type": "display_data",
          "data": {
            "image/png": "[encoded data removed]",
            "text/plain": [
              "<Figure size 432x432 with 1 Axes>"
            ]
          },
          "metadata": {
            "needs_background": "light"
          }
        }
      ]
    },
    {
      "cell_type": "code",
      "metadata": {
        "colab": {
          "base_uri": "https://localhost:8080/",
          "height": 454
        },
        "id": "WMRZMY2tUigr",
        "outputId": "f7f56cf2-2e1e-48e7-b379-e7564d66b14b"
      },
      "source": [
        "#3. Which sport is having most number of medals so far? (Top 5)\n",
        "\n",
        "data=[]\n",
        "\n",
        "for Sport in df['Sport'].unique():\n",
        "    data.append([Sport,len(df[df['Sport']==Sport])])\n",
        "    \n",
        "pd.DataFrame(data,columns=['Sport','Medals']).sort_values(by='Medals',ascending=False).head().plot.bar(x='Sport',y='Medals',figsize=(6,6),color='y')"
      ],
      "execution_count": 17,
      "outputs": [
        {
          "output_type": "execute_result",
          "data": {
            "text/plain": [
              "<matplotlib.axes._subplots.AxesSubplot at 0x7f86ae50e350>"
            ]
          },
          "metadata": {},
          "execution_count": 17
        },
        {
          "output_type": "display_data",
          "data": {
            "image/png": "[encoded data removed]",
            "text/plain": [
              "<Figure size 432x432 with 1 Axes>"
            ]
          },
          "metadata": {
            "needs_background": "light"
          }
        }
      ]
    },
    {
      "cell_type": "code",
      "metadata": {
        "colab": {
          "base_uri": "https://localhost:8080/",
          "height": 512
        },
        "id": "CEhgHOe3U0bB",
        "outputId": "7b24e1bc-95fe-4598-e6d7-c8256f5d55fd"
      },
      "source": [
        "#4. Which player has won most number of medals? (Top 5)\n",
        "\n",
        "data = []\n",
        "\n",
        "for Athlete in df['Athlete'].unique():\n",
        "    data.append([Athlete,len(df[df['Athlete']==Athlete])])\n",
        "    \n",
        "pd.DataFrame(data,columns=['Athlete','numberOfMedal']).sort_values(by='numberOfMedal',ascending=False).head().plot.bar(x='Athlete',y='numberOfMedal',figsize=(6,6),color='y')"
      ],
      "execution_count": 18,
      "outputs": [
        {
          "output_type": "execute_result",
          "data": {
            "text/plain": [
              "<matplotlib.axes._subplots.AxesSubplot at 0x7f86b2ddfed0>"
            ]
          },
          "metadata": {},
          "execution_count": 18
        },
        {
          "output_type": "display_data",
          "data": {
            "image/png": "[encoded data removed]",
            "text/plain": [
              "<Figure size 432x432 with 1 Axes>"
            ]
          },
          "metadata": {
            "needs_background": "light"
          }
        }
      ]
    },
    {
      "cell_type": "code",
      "metadata": {
        "colab": {
          "base_uri": "https://localhost:8080/",
          "height": 480
        },
        "id": "L9oevkUhVDZB",
        "outputId": "47cc9348-e564-4344-b7e5-b3f1d037ed30"
      },
      "source": [
        "#5. Which player has won most number Gold Medals of medals? (Top 5)\n",
        "\n",
        "data = []\n",
        "\n",
        "for Athlete in df['Athlete'].unique():\n",
        "    data.append([Athlete,len(df.loc[(df['Athlete']==Athlete) & (df['Medal']=='Gold')])])\n",
        "    \n",
        "pd.DataFrame(data,columns=['Athlete','numberOfMedal']).sort_values(by='numberOfMedal',ascending=False).head().plot.bar(x='Athlete',y='numberOfMedal',figsize=(6,6),color='y')"
      ],
      "execution_count": 19,
      "outputs": [
        {
          "output_type": "execute_result",
          "data": {
            "text/plain": [
              "<matplotlib.axes._subplots.AxesSubplot at 0x7f86adcda8d0>"
            ]
          },
          "metadata": {},
          "execution_count": 19
        },
        {
          "output_type": "display_data",
          "data": {
            "image/png": "[encoded data removed]",
            "text/plain": [
              "<Figure size 432x432 with 1 Axes>"
            ]
          },
          "metadata": {
            "needs_background": "light"
          }
        }
      ]
    },
    {
      "cell_type": "code",
      "metadata": {
        "colab": {
          "base_uri": "https://localhost:8080/"
        },
        "id": "N97muF9PVmPK",
        "outputId": "aa4fc2b4-aab1-4438-f4cd-9b3447ed77a5"
      },
      "source": [
        "#6. In which year India won first Gold Medal in Summer Olympics?\n",
        "\n",
        "for Year in df['Year'].unique():\n",
        "    print(Year,len(df.loc[(df['Year']==Year) & (df['Country']=='IND') & (df['Medal']=='Gold')]))"
      ],
      "execution_count": 20,
      "outputs": [
        {
          "output_type": "stream",
          "name": "stdout",
          "text": [
            "1896 0\n",
            "1900 0\n",
            "1904 0\n",
            "1908 0\n",
            "1912 0\n",
            "1920 0\n",
            "1924 0\n",
            "1928 15\n",
            "1932 11\n",
            "1936 19\n",
            "1948 20\n",
            "1952 14\n",
            "1956 17\n",
            "1960 0\n",
            "1964 15\n",
            "1968 0\n",
            "1972 0\n",
            "1976 0\n",
            "1980 16\n",
            "1984 0\n",
            "1988 0\n",
            "1992 0\n",
            "1996 0\n",
            "2000 0\n",
            "2004 0\n",
            "2008 1\n",
            "2012 0\n"
          ]
        }
      ]
    },
    {
      "cell_type": "code",
      "metadata": {
        "colab": {
          "base_uri": "https://localhost:8080/",
          "height": 485
        },
        "id": "1TqeC5aaV6Mi",
        "outputId": "ea4077b7-6517-479f-a389-f33d2e42e85f"
      },
      "source": [
        "#7. Which event is most popular in terms on number of players? (Top 5)\n",
        "\n",
        "data = []\n",
        "\n",
        "for Event in df['Event'].unique():\n",
        "    data.append([Event, len(df[df['Event']==Event])])\n",
        "    \n",
        "pd.DataFrame(data,columns=['Event','numberOfPlayer']).sort_values(by='numberOfPlayer',ascending=False).head().plot.bar(x='Event',y='numberOfPlayer',figsize=(6,6),color = 'y')\n",
        "                                                                                                "
      ],
      "execution_count": 21,
      "outputs": [
        {
          "output_type": "execute_result",
          "data": {
            "text/plain": [
              "<matplotlib.axes._subplots.AxesSubplot at 0x7f86adc58790>"
            ]
          },
          "metadata": {},
          "execution_count": 21
        },
        {
          "output_type": "display_data",
          "data": {
            "image/png": "[encoded data removed]",
            "text/plain": [
              "<Figure size 432x432 with 1 Axes>"
            ]
          },
          "metadata": {
            "needs_background": "light"
          }
        }
      ]
    },
    {
      "cell_type": "code",
      "metadata": {
        "colab": {
          "base_uri": "https://localhost:8080/",
          "height": 454
        },
        "id": "c_4vFTwLWK8M",
        "outputId": "8a142e1a-af7c-4d17-c691-14d9450b641d"
      },
      "source": [
        "#8. Which sport is having most female Gold Medalists? (Top 5)\n",
        "\n",
        "data = []\n",
        "\n",
        "for Sport in df['Sport'].unique():\n",
        "    data.append([Sport, len(df.loc[(df['Sport']==Sport) & (df['Gender']=='Women') & (df['Medal']=='Gold')])])\n",
        "    \n",
        "pd.DataFrame(data,columns=['Sport','numberFemaleAthlete']).sort_values(by='numberFemaleAthlete', ascending=False).head().plot.bar(x='Sport',y='numberFemaleAthlete',figsize=(6,6),color = 'y')"
      ],
      "execution_count": 22,
      "outputs": [
        {
          "output_type": "execute_result",
          "data": {
            "text/plain": [
              "<matplotlib.axes._subplots.AxesSubplot at 0x7f86adce6d10>"
            ]
          },
          "metadata": {},
          "execution_count": 22
        },
        {
          "output_type": "display_data",
          "data": {
            "image/png": "[encoded data removed]",
            "text/plain": [
              "<Figure size 432x432 with 1 Axes>"
            ]
          },
          "metadata": {
            "needs_background": "light"
          }
        }
      ]
    }
  ]
}